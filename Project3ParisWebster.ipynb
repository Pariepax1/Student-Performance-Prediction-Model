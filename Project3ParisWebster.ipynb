{
 "cells": [
  {
   "cell_type": "markdown",
   "id": "1f312017-1755-40c2-b0f3-bda59633cd01",
   "metadata": {},
   "source": [
    "# Project 3: Student Performance Prediction Model"
   ]
  },
  {
   "cell_type": "markdown",
   "id": "bd37a26a-73e9-4400-bba2-55c27673bf83",
   "metadata": {},
   "source": [
    "# Introduction \n",
    "This project aims to develop a predictive model for student performance using various factors such as study time, extracurricular activities, and more. Understanding these influences can help educators and students make data-driven decisions to improve academic outcomes. Since student performance is often determined by continuous factors like study hours and sleep, linear regression is a suitable modeling approach. Linear regression is a statistical method used to model the relationship between one dependent variable and one or more independent variables by fitting a straight line through the data. This predicts outcomes by minimizing the difference between actual and predicted values using the least squares approach.\n",
    "\n",
    "The dataset used for this project is sourced from Kaggle and contains multiple attributes related to student behavior and academic success. The model will be trained on historical data to identify patterns and make accurate grade predictions. By evaluating the model’s performance using appropriate metrics, we aim to determine the key contributors to student success and assess the effectiveness of linear regression for this task.\n",
    "\n",
    "https://www.kaggle.com/datasets/nikhil7280/student-performance-multiple-linear-regression\n"
   ]
  },
  {
   "cell_type": "markdown",
   "id": "780e883c-a4bf-432f-a66f-54cec51fb6f6",
   "metadata": {},
   "source": [
    "# Import"
   ]
  },
  {
   "cell_type": "code",
   "execution_count": 14,
   "id": "fe7c3b0e-5c5b-48f8-a562-69789d44c6ee",
   "metadata": {},
   "outputs": [],
   "source": [
    "import pandas as pd\n",
    "import numpy as np\n",
    "import matplotlib.pyplot as plt\n",
    "import seaborn as sns\n",
    "from sklearn.model_selection import train_test_split\n",
    "from sklearn.linear_model import LinearRegression\n",
    "from sklearn.metrics import mean_absolute_error, mean_squared_error, r2_score"
   ]
  },
  {
   "cell_type": "markdown",
   "id": "60b57c73-1ef9-4bbe-9ac9-e4de91382467",
   "metadata": {},
   "source": [
    "# Data Cleaning & Preprocessing"
   ]
  },
  {
   "cell_type": "code",
   "execution_count": 17,
   "id": "5ad93ebd-dfdf-4017-a507-b914d33aada5",
   "metadata": {},
   "outputs": [
    {
     "data": {
      "text/html": [
       "<div>\n",
       "<style scoped>\n",
       "    .dataframe tbody tr th:only-of-type {\n",
       "        vertical-align: middle;\n",
       "    }\n",
       "\n",
       "    .dataframe tbody tr th {\n",
       "        vertical-align: top;\n",
       "    }\n",
       "\n",
       "    .dataframe thead th {\n",
       "        text-align: right;\n",
       "    }\n",
       "</style>\n",
       "<table border=\"1\" class=\"dataframe\">\n",
       "  <thead>\n",
       "    <tr style=\"text-align: right;\">\n",
       "      <th></th>\n",
       "      <th>Hours Studied</th>\n",
       "      <th>Previous Scores</th>\n",
       "      <th>Extracurricular Activities</th>\n",
       "      <th>Sleep Hours</th>\n",
       "      <th>Sample Question Papers Practiced</th>\n",
       "      <th>Performance Index</th>\n",
       "    </tr>\n",
       "  </thead>\n",
       "  <tbody>\n",
       "    <tr>\n",
       "      <th>0</th>\n",
       "      <td>7</td>\n",
       "      <td>99</td>\n",
       "      <td>Yes</td>\n",
       "      <td>9</td>\n",
       "      <td>1</td>\n",
       "      <td>91.0</td>\n",
       "    </tr>\n",
       "    <tr>\n",
       "      <th>1</th>\n",
       "      <td>4</td>\n",
       "      <td>82</td>\n",
       "      <td>No</td>\n",
       "      <td>4</td>\n",
       "      <td>2</td>\n",
       "      <td>65.0</td>\n",
       "    </tr>\n",
       "    <tr>\n",
       "      <th>2</th>\n",
       "      <td>8</td>\n",
       "      <td>51</td>\n",
       "      <td>Yes</td>\n",
       "      <td>7</td>\n",
       "      <td>2</td>\n",
       "      <td>45.0</td>\n",
       "    </tr>\n",
       "    <tr>\n",
       "      <th>3</th>\n",
       "      <td>5</td>\n",
       "      <td>52</td>\n",
       "      <td>Yes</td>\n",
       "      <td>5</td>\n",
       "      <td>2</td>\n",
       "      <td>36.0</td>\n",
       "    </tr>\n",
       "    <tr>\n",
       "      <th>4</th>\n",
       "      <td>7</td>\n",
       "      <td>75</td>\n",
       "      <td>No</td>\n",
       "      <td>8</td>\n",
       "      <td>5</td>\n",
       "      <td>66.0</td>\n",
       "    </tr>\n",
       "  </tbody>\n",
       "</table>\n",
       "</div>"
      ],
      "text/plain": [
       "   Hours Studied  Previous Scores Extracurricular Activities  Sleep Hours  \\\n",
       "0              7               99                        Yes            9   \n",
       "1              4               82                         No            4   \n",
       "2              8               51                        Yes            7   \n",
       "3              5               52                        Yes            5   \n",
       "4              7               75                         No            8   \n",
       "\n",
       "   Sample Question Papers Practiced  Performance Index  \n",
       "0                                 1               91.0  \n",
       "1                                 2               65.0  \n",
       "2                                 2               45.0  \n",
       "3                                 2               36.0  \n",
       "4                                 5               66.0  "
      ]
     },
     "execution_count": 17,
     "metadata": {},
     "output_type": "execute_result"
    }
   ],
   "source": [
    "# Pull Student Performance csv and display the first 5 rows\n",
    "student_df = pd.read_csv(\"Student_Performance.csv\")\n",
    "student_df.head()"
   ]
  },
  {
   "cell_type": "code",
   "execution_count": 19,
   "id": "fb261c8e-5ad2-4135-a2b5-12fe2d37d418",
   "metadata": {},
   "outputs": [
    {
     "name": "stdout",
     "output_type": "stream",
     "text": [
      "Missing Values:\n",
      " Hours Studied                       0\n",
      "Previous Scores                     0\n",
      "Extracurricular Activities          0\n",
      "Sleep Hours                         0\n",
      "Sample Question Papers Practiced    0\n",
      "Performance Index                   0\n",
      "dtype: int64\n"
     ]
    }
   ],
   "source": [
    "print(\"Missing Values:\\n\", student_df.isnull().sum())"
   ]
  },
  {
   "cell_type": "code",
   "execution_count": 21,
   "id": "3f7de0f2-71d6-43c4-b5c8-88ab594a20c3",
   "metadata": {},
   "outputs": [
    {
     "name": "stdout",
     "output_type": "stream",
     "text": [
      "<class 'pandas.core.frame.DataFrame'>\n",
      "RangeIndex: 10000 entries, 0 to 9999\n",
      "Data columns (total 6 columns):\n",
      " #   Column                            Non-Null Count  Dtype  \n",
      "---  ------                            --------------  -----  \n",
      " 0   Hours Studied                     10000 non-null  int64  \n",
      " 1   Previous Scores                   10000 non-null  int64  \n",
      " 2   Sleep Hours                       10000 non-null  int64  \n",
      " 3   Sample Question Papers Practiced  10000 non-null  int64  \n",
      " 4   Performance Index                 10000 non-null  float64\n",
      " 5   Extracurricular Activities_Yes    10000 non-null  bool   \n",
      "dtypes: bool(1), float64(1), int64(4)\n",
      "memory usage: 400.5 KB\n"
     ]
    }
   ],
   "source": [
    "# Remove rows with missing values\n",
    "student_df.dropna(inplace=True)\n",
    "\n",
    "# Convert categorical variables into numerical values and avoids dummy variable trap\n",
    "student_df = pd.get_dummies(student_df, drop_first=True)\n",
    "\n",
    "# Display dataset information after preprocessing with features\n",
    "student_df.info()"
   ]
  },
  {
   "cell_type": "markdown",
   "id": "ecc40e64-9d3e-49f1-9056-ebaa8b792b63",
   "metadata": {},
   "source": [
    "# Experiments"
   ]
  },
  {
   "cell_type": "markdown",
   "id": "d60e02fe-e53a-4691-b7f6-49a94ad133e5",
   "metadata": {},
   "source": [
    "**Experiment 1**"
   ]
  },
  {
   "cell_type": "code",
   "execution_count": 33,
   "id": "652c021a-0194-4ae6-96a9-66ebe693f8f6",
   "metadata": {},
   "outputs": [
    {
     "name": "stdout",
     "output_type": "stream",
     "text": [
      "Training set: (8000, 5) (8000,)\n",
      "Testing set: (2000, 5) (2000,)\n"
     ]
    }
   ],
   "source": [
    "# Define feature columns (X) and target variable (y)\n",
    "X = student_df.drop(columns=[\"Performance Index\"])  # Features\n",
    "y = student_df[\"Performance Index\"]  # Target variable (student performance score)\n",
    "\n",
    "# Split in to training and testing \n",
    "X_train, X_test, y_train, y_test = train_test_split(X, y, test_size=0.2, random_state=42)\n",
    "\n",
    "# Display shape of datasets\n",
    "print(\"Training set:\", X_train.shape, y_train.shape)\n",
    "print(\"Testing set:\", X_test.shape, y_test.shape)"
   ]
  },
  {
   "cell_type": "code",
   "execution_count": 35,
   "id": "67cd7afc-fc23-4ce9-8e03-b98435561ce0",
   "metadata": {},
   "outputs": [],
   "source": [
    "# Train the linear regression model\n",
    "model = LinearRegression()\n",
    "model.fit(X_train, y_train)\n",
    "\n",
    "y_pred = model.predict(X_test)"
   ]
  },
  {
   "cell_type": "code",
   "execution_count": 37,
   "id": "1822f11e-4891-42bb-bea7-ad3683c35529",
   "metadata": {},
   "outputs": [
    {
     "name": "stdout",
     "output_type": "stream",
     "text": [
      "Mean Squared Error (MSE): 4.08\n",
      "R-squared (R²): 0.99\n",
      "Mean Absolute Error (MAE): 1.61\n"
     ]
    }
   ],
   "source": [
    "# Calculate mean squared error (MSE), r^2 (r-squared), & mean absolute error (MAE)\n",
    "mse = mean_squared_error(y_test, y_pred)\n",
    "r2 = r2_score(y_test, y_pred)\n",
    "mae = mean_absolute_error(y_test, y_pred)\n",
    "\n",
    "print(f\"Mean Squared Error (MSE): {mse:.2f}\")\n",
    "print(f\"R-squared (R²): {r2:.2f}\")\n",
    "print(f\"Mean Absolute Error (MAE): {mae:.2f}\")"
   ]
  },
  {
   "cell_type": "code",
   "execution_count": 39,
   "id": "2f6e6fa2-a07e-4cdb-aa62-7691dc1917b3",
   "metadata": {},
   "outputs": [
    {
     "data": {
      "image/png": "[encoded data removed]",
      "text/plain": [
       "<Figure size 1200x600 with 1 Axes>"
      ]
     },
     "metadata": {},
     "output_type": "display_data"
    }
   ],
   "source": [
    "# First 20 for test sample\n",
    "num_samples = 20\n",
    "indices = np.arange(num_samples)\n",
    "\n",
    "# Get actual and predicted values\n",
    "actual_values = y_test[:num_samples].values\n",
    "predicted_values = y_pred[:num_samples]\n",
    "\n",
    "# Set up the plot\n",
    "plt.figure(figsize=(12, 6))\n",
    "bar_width = 0.4\n",
    "\n",
    "# Plot bars for actual and predicted values\n",
    "plt.bar(indices - bar_width/2, actual_values, bar_width, label=\"Actual\", color=\"#1aede6\")\n",
    "plt.bar(indices + bar_width/2, predicted_values, bar_width, label=\"Predicted\", color=\"#58a2ed\")\n",
    "\n",
    "# Labels and title\n",
    "plt.xlabel(\"Student Index\")\n",
    "plt.ylabel(\"Performance Index\")\n",
    "plt.title(\"Actual vs Predicted Performance Index for the First 20 Students\")\n",
    "plt.xticks(indices)\n",
    "plt.legend()\n",
    "\n",
    "# Show the plot\n",
    "plt.show()"
   ]
  },
  {
   "cell_type": "markdown",
   "id": "f8849e52-adef-42b8-acb8-997241ea947c",
   "metadata": {},
   "source": [
    "**Evaluation**\n",
    "\n",
    "In the first experiment, I used a linear regression model with all available features to predict student performance. The model achieved a high R² score of 0.99, indicating that it explains 99% of the variance in the performance index. The Mean Squared Error (MSE) was 4.08, and the Mean Absolute Error (MAE) was 1.61, showing strong prediction accuracy. I used a bar chart to compare the actual vs. predicted values for 20 students, confirming that the model's predictions are consistently close to the real scores. Overall, the model performed well and serves as a strong baseline for comparison with other experiments."
   ]
  },
  {
   "cell_type": "markdown",
   "id": "3e14b2ce-6882-4215-9f4d-84596061684a",
   "metadata": {},
   "source": [
    "**Experiment 2**\n",
    "\n",
    "In the next experiment, I will remove the feature \"Sample Question Papers Practiced\" to test whether this variable significantly affects the model’s accuracy. I hypothesized that some features may have weaker correlations with the target variable (Performance Index), so I wanted to test model performance without them."
   ]
  },
  {
   "cell_type": "code",
   "execution_count": 61,
   "id": "b2b6f33b-d613-496a-aa52-11675d1cb63d",
   "metadata": {},
   "outputs": [
    {
     "name": "stdout",
     "output_type": "stream",
     "text": [
      "Training set: (8000, 4) (8000,)\n",
      "Testing set: (2000, 4) (2000,)\n"
     ]
    }
   ],
   "source": [
    "# Define new features and target variable removing Sample Questions feature\n",
    "X_exp2 = student_df.drop(columns=[\"Performance Index\", \"Sample Question Papers Practiced\"])  \n",
    "y_exp2 = student_df[\"Performance Index\"]\n",
    "\n",
    "# Split into training and testing\n",
    "X_train2, X_test2, y_train2, y_test2 = train_test_split(X_exp2, y_exp2, test_size=0.2, random_state=42)\n",
    "\n",
    "# Display shape of datasets\n",
    "print(\"Training set:\", X_train2.shape, y_train2.shape)\n",
    "print(\"Testing set:\", X_test2.shape, y_test2.shape)"
   ]
  },
  {
   "cell_type": "code",
   "execution_count": 59,
   "id": "de5cc573-2c20-448a-9717-a2e11f4a29ea",
   "metadata": {},
   "outputs": [],
   "source": [
    "# Train linear regression model on reduced feature set\n",
    "model2 = LinearRegression()\n",
    "model2.fit(X_train2, y_train2)\n",
    "\n",
    "y_pred2 = model2.predict(X_test2)"
   ]
  },
  {
   "cell_type": "code",
   "execution_count": 57,
   "id": "19616707-6b20-425e-be27-1eb5276d19dd",
   "metadata": {},
   "outputs": [
    {
     "name": "stdout",
     "output_type": "stream",
     "text": [
      "Mean Squared Error (MSE): 4.42\n",
      "R-squared (R²): 0.99\n",
      "Mean Absolute Error (MAE): 1.68\n"
     ]
    }
   ],
   "source": [
    "# Evaluate the model (Experiment 2)\n",
    "mse2 = mean_squared_error(y_test2, y_pred2)\n",
    "r2_2 = r2_score(y_test2, y_pred2)\n",
    "mae2 = mean_absolute_error(y_test2, y_pred2)\n",
    "\n",
    "print(f\"Mean Squared Error (MSE): {mse2:.2f}\")\n",
    "print(f\"R-squared (R²): {r2_2:.2f}\")\n",
    "print(f\"Mean Absolute Error (MAE): {mae2:.2f}\")"
   ]
  },
  {
   "cell_type": "code",
   "execution_count": 64,
   "id": "21ff5b21-29eb-4c65-9a23-23b9bc90fbd8",
   "metadata": {},
   "outputs": [
    {
     "data": {
      "image/png": "[encoded data removed]",
      "text/plain": [
       "<Figure size 1200x600 with 1 Axes>"
      ]
     },
     "metadata": {},
     "output_type": "display_data"
    }
   ],
   "source": [
    "# Visualize actual vs predicted for Experiment 2 (first 20 students)\n",
    "num_samples = 20\n",
    "indices = np.arange(num_samples)\n",
    "\n",
    "# Get the first 20 actual and predicted values\n",
    "actual_values_2 = y_test2[:num_samples].values\n",
    "predicted_values_2 = y_pred2[:num_samples]\n",
    "\n",
    "# Set up the plot\n",
    "plt.figure(figsize=(12, 6))\n",
    "bar_width = 0.4\n",
    "\n",
    "# Plot bars\n",
    "plt.bar(indices - bar_width/2, actual_values_2, bar_width, label=\"Actual\", color=\"#1aede6\")\n",
    "plt.bar(indices + bar_width/2, predicted_values_2, bar_width, label=\"Predicted\", color=\"#58a2ed\")\n",
    "\n",
    "# Labels and title\n",
    "plt.xlabel(\"Student Index\")\n",
    "plt.ylabel(\"Performance Index\")\n",
    "plt.title(\"Experiment 2: Actual vs Predicted Performance Index for First 20 Students\")\n",
    "plt.xticks(indices)\n",
    "plt.legend()\n",
    "\n",
    "# Show the plot\n",
    "plt.show()\n"
   ]
  },
  {
   "cell_type": "markdown",
   "id": "21ca0c12-ef06-4113-b276-0f34ac172097",
   "metadata": {},
   "source": [
    "**Experiment 2 Evaluation**\n",
    "\n",
    "In Experiment 1, the model used all available features and achieved an MSE of 4.08, R² of 0.99, and MAE of 1.61, showing excellent predictive performance. In Experiment 2, after removing the “Sample Question Papers Practiced” feature, the model still performed well but with a slightly higher MSE of 4.42 and MAE of 1.68. The R² remained the same at 0.99, indicating the overall variance explanation did not change. However, the small increase in error suggests that the dropped feature did contribute some predictive value. This comparison highlights that even seemingly minor features can help improve model accuracy."
   ]
  },
  {
   "cell_type": "markdown",
   "id": "fe862fc4-f0d7-4a9b-aa94-274321005c93",
   "metadata": {},
   "source": [
    "**Experiment 3**\n",
    "\n",
    "In this experiment, I replaced the Linear Regression model with a Decision Tree Regressor to explore whether a non-linear model could improve prediction accuracy. Decision trees can capture complex patterns in the data without assuming a linear relationship between features and the target variable."
   ]
  },
  {
   "cell_type": "code",
   "execution_count": 68,
   "id": "8db5eae0-7db7-497f-8e4d-51b36e853811",
   "metadata": {},
   "outputs": [
    {
     "name": "stdout",
     "output_type": "stream",
     "text": [
      "Training set: (8000, 5) (8000,)\n",
      "Testing set: (2000, 5) (2000,)\n"
     ]
    }
   ],
   "source": [
    "# Train Decision Tree Regressor\n",
    "from sklearn.tree import DecisionTreeRegressor\n",
    "\n",
    "X_exp3 = student_df.drop(columns=[\"Performance Index\"])\n",
    "y_exp3 = student_df[\"Performance Index\"]\n",
    "\n",
    "# Split the dataset\n",
    "X_train3, X_test3, y_train3, y_test3 = train_test_split(X_exp3, y_exp3, test_size=0.2, random_state=42)\n",
    "\n",
    "# Display shape of datasets\n",
    "print(\"Training set:\", X_train3.shape, y_train3.shape)\n",
    "print(\"Testing set:\", X_test3.shape, y_test3.shape)"
   ]
  },
  {
   "cell_type": "code",
   "execution_count": 70,
   "id": "03d4bb8e-49ad-49a1-a7cf-3cc6c61f30cb",
   "metadata": {},
   "outputs": [],
   "source": [
    "model3 = DecisionTreeRegressor(random_state=42)\n",
    "model3.fit(X_train3, y_train3)\n",
    "\n",
    "# Predict using the model\n",
    "y_pred3 = model3.predict(X_test3)"
   ]
  },
  {
   "cell_type": "code",
   "execution_count": 72,
   "id": "3b1b6d73-c149-46d1-8fb6-118f3c72aaab",
   "metadata": {},
   "outputs": [
    {
     "name": "stdout",
     "output_type": "stream",
     "text": [
      "Mean Squared Error (MSE): 8.81\n",
      "R-squared (R²): 0.98\n",
      "Mean Absolute Error (MAE): 2.34\n"
     ]
    }
   ],
   "source": [
    "# Evaluate the model (Experiment 3)\n",
    "mse3 = mean_squared_error(y_test3, y_pred3)\n",
    "r2_3 = r2_score(y_test3, y_pred3)\n",
    "mae3 = mean_absolute_error(y_test3, y_pred3)\n",
    "\n",
    "print(f\"Mean Squared Error (MSE): {mse3:.2f}\")\n",
    "print(f\"R-squared (R²): {r2_3:.2f}\")\n",
    "print(f\"Mean Absolute Error (MAE): {mae3:.2f}\")"
   ]
  },
  {
   "cell_type": "code",
   "execution_count": 74,
   "id": "80416941-a65e-415e-a5ce-1f751399b8c5",
   "metadata": {},
   "outputs": [
    {
     "data": {
      "image/png": "[encoded data removed]",
      "text/plain": [
       "<Figure size 1200x600 with 1 Axes>"
      ]
     },
     "metadata": {},
     "output_type": "display_data"
    }
   ],
   "source": [
    "# Visualize actual vs predicted for Experiment 3 (first 20 students)\n",
    "num_samples = 20\n",
    "indices = np.arange(num_samples)\n",
    "\n",
    "# Get the first 20 actual and predicted values\n",
    "actual_values_3 = y_test3[:num_samples].values\n",
    "predicted_values_3 = y_pred3[:num_samples]\n",
    "\n",
    "# Set up the plot\n",
    "plt.figure(figsize=(12, 6))\n",
    "bar_width = 0.4\n",
    "\n",
    "# Plot bars\n",
    "plt.bar(indices - bar_width/2, actual_values_3, bar_width, label=\"Actual\", color=\"#1aede6\")\n",
    "plt.bar(indices + bar_width/2, predicted_values_3, bar_width, label=\"Predicted\", color=\"#58a2ed\")\n",
    "\n",
    "# Labels and title\n",
    "plt.xlabel(\"Student Index\")\n",
    "plt.ylabel(\"Performance Index\")\n",
    "plt.title(\"Experiment 3: Actual vs Predicted Performance Index for First 20 Students\")\n",
    "plt.xticks(indices)\n",
    "plt.legend()\n",
    "\n",
    "# Show the plot\n",
    "plt.show()\n"
   ]
  },
  {
   "cell_type": "markdown",
   "id": "159523ee-4f54-490c-a24d-08142bb6dfbf",
   "metadata": {},
   "source": [
    "**Experiment 3 Evaluation**\n",
    "\n",
    "In Experiment 3, the Decision Tree Regressor achieved an MSE of 8.81, R² of 0.98, and MAE of 2.34, which is  worse than the linear regression models in Experiments 1 and 2. Although the R² score remains high, the increased error values suggest that the decision tree overfits or lacks generalization on this dataset. Experiment 1 (all features) had the best performance with the lowest MAE (1.61) and MSE (4.08). Experiment 2, which removed one feature, still performed well with a slight increase in error. This comparison shows that for this dataset, linear regression is more effective and consistent than the non-linear decision tree model."
   ]
  },
  {
   "attachments": {},
   "cell_type": "markdown",
   "id": "3e3ba681-7d40-465e-8f98-a942a3cb8013",
   "metadata": {},
   "source": [
    "# Impact\n",
    "\n",
    "This project has the potential to positively impact education by helping schools, teachers, and students identify key factors that influence academic success. By using predictive models to forecast student performance, educators could provide early interventions, allocate resources more effectively, and tailor support to individual needs. However, there are also important ethical considerations to acknowledge. Relying on predictive models could unintentionally reinforce biases if the data reflects existing inequalities—such as access to study materials or extracurricular opportunities. There's also a risk that students may be unfairly labeled or tracked based on predictions, which could affect motivation, confidence, and educational opportunities. It's essential that such models are used to support students and not to define or limit them. "
   ]
  },
  {
   "cell_type": "markdown",
   "id": "130f30bc-96df-4774-8299-ff653c0164e9",
   "metadata": {},
   "source": [
    "# Conclusion\n",
    "\n",
    "I learned how different machine learning techniques and preprocessing choices can significantly influence a model’s performance. Starting with linear regression, I saw that using all features produced the most accurate results, with low error rates and high R² scores. In Experiment 2, removing a single feature (Sample Question Papers Practiced) led to a slight increase in error, suggesting that even small features can contribute to prediction accuracy. In Experiment 3, switching to Decision Tree Regressor (a non-linear model), resulted in higher error values, showing that linear regression was better suited for this dataset."
   ]
  }
 ],
 "metadata": {
  "kernelspec": {
   "display_name": "Python (base)",
   "language": "python",
   "name": "python3"
  },
  "language_info": {
   "codemirror_mode": {
    "name": "ipython",
    "version": 3
   },
   "file_extension": ".py",
   "mimetype": "text/x-python",
   "name": "python",
   "nbconvert_exporter": "python",
   "pygments_lexer": "ipython3",
   "version": "3.12.7"
  }
 },
 "nbformat": 4,
 "nbformat_minor": 5
}
